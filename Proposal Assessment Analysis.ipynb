{
 "cells": [
  {
   "cell_type": "markdown",
   "metadata": {},
   "source": [
    "# Import of Modules and Data"
   ]
  },
  {
   "cell_type": "code",
   "execution_count": 1,
   "metadata": {},
   "outputs": [],
   "source": [
    "import pandas as pd\n",
    "import matplotlib.pyplot as plt\n",
    "import numpy as np\n",
    "%matplotlib inline"
   ]
  },
  {
   "cell_type": "code",
   "execution_count": 2,
   "metadata": {},
   "outputs": [],
   "source": [
    "df = pd.read_excel(\"./data/data_file.ods\")\n",
    "df.drop(columns = {\"Idea Title\", \"Idea Description\"}, inplace = True)"
   ]
  },
  {
   "cell_type": "markdown",
   "metadata": {},
   "source": [
    "## Number of Ideas and Assessors"
   ]
  },
  {
   "cell_type": "code",
   "execution_count": 3,
   "metadata": {
    "scrolled": false
   },
   "outputs": [
    {
     "name": "stdout",
     "output_type": "stream",
     "text": [
      "149\n",
      "163\n"
     ]
    }
   ],
   "source": [
    "print(df[\"Idea\"].nunique())\n",
    "print(df[\"Assessor\"].nunique())"
   ]
  },
  {
   "cell_type": "markdown",
   "metadata": {},
   "source": [
    "# Data Cleaning"
   ]
  },
  {
   "cell_type": "code",
   "execution_count": 4,
   "metadata": {},
   "outputs": [],
   "source": [
    "#df.head()"
   ]
  },
  {
   "cell_type": "code",
   "execution_count": 5,
   "metadata": {},
   "outputs": [],
   "source": [
    "#df.describe()"
   ]
  },
  {
   "cell_type": "code",
   "execution_count": 6,
   "metadata": {},
   "outputs": [],
   "source": [
    "df[\"Flagged_Bool\"] = df[\"Flagged\"] == \"x\"\n",
    "by_flag = df.groupby(\"Flagged_Bool\")\n",
    "#by_flag.get_group(True)"
   ]
  },
  {
   "cell_type": "code",
   "execution_count": 7,
   "metadata": {},
   "outputs": [],
   "source": [
    "df.drop(labels=\"Flagged\", inplace=True, axis=1)"
   ]
  },
  {
   "cell_type": "code",
   "execution_count": 8,
   "metadata": {},
   "outputs": [],
   "source": [
    "df[\"Outcome\"].fillna(\"JUSTIFIED\", inplace = True)\n",
    "#df[\"Outcome\"].unique()"
   ]
  },
  {
   "cell_type": "code",
   "execution_count": 9,
   "metadata": {},
   "outputs": [],
   "source": [
    "df.rename(columns={\"Sum of Rating\": \"Sum of Reviews\", \"Ratings Done\":\"Number of Reviews\"}, inplace=True)"
   ]
  },
  {
   "cell_type": "code",
   "execution_count": 10,
   "metadata": {
    "scrolled": false
   },
   "outputs": [
    {
     "data": {
      "text/html": [
       "<div>\n",
       "<style scoped>\n",
       "    .dataframe tbody tr th:only-of-type {\n",
       "        vertical-align: middle;\n",
       "    }\n",
       "\n",
       "    .dataframe tbody tr th {\n",
       "        vertical-align: top;\n",
       "    }\n",
       "\n",
       "    .dataframe thead th {\n",
       "        text-align: right;\n",
       "    }\n",
       "</style>\n",
       "<table border=\"1\" class=\"dataframe\">\n",
       "  <thead>\n",
       "    <tr style=\"text-align: right;\">\n",
       "      <th></th>\n",
       "      <th>Idea</th>\n",
       "      <th>Challenge</th>\n",
       "      <th>Category</th>\n",
       "      <th>Outcome</th>\n",
       "      <th>Sum of Reviews</th>\n",
       "      <th>Number of Reviews</th>\n",
       "      <th>Rating Given</th>\n",
       "      <th>Assessor</th>\n",
       "      <th>Assessment Note</th>\n",
       "      <th>Flagged_Bool</th>\n",
       "    </tr>\n",
       "  </thead>\n",
       "  <tbody>\n",
       "    <tr>\n",
       "      <th>0</th>\n",
       "      <td>a better catalyst</td>\n",
       "      <td>CC</td>\n",
       "      <td>Success Chance</td>\n",
       "      <td>DISPUTED</td>\n",
       "      <td>-1</td>\n",
       "      <td>3</td>\n",
       "      <td>1</td>\n",
       "      <td>103</td>\n",
       "      <td>The proposal doesn't contain any execution pla...</td>\n",
       "      <td>False</td>\n",
       "    </tr>\n",
       "    <tr>\n",
       "      <th>1</th>\n",
       "      <td>a better catalyst</td>\n",
       "      <td>CC</td>\n",
       "      <td>Success Chance</td>\n",
       "      <td>JUSTIFIED</td>\n",
       "      <td>2</td>\n",
       "      <td>2</td>\n",
       "      <td>1</td>\n",
       "      <td>104</td>\n",
       "      <td>Due to all changes will might take place in th...</td>\n",
       "      <td>False</td>\n",
       "    </tr>\n",
       "    <tr>\n",
       "      <th>2</th>\n",
       "      <td>a better catalyst</td>\n",
       "      <td>CC</td>\n",
       "      <td>Success Chance</td>\n",
       "      <td>JUSTIFIED</td>\n",
       "      <td>0</td>\n",
       "      <td>0</td>\n",
       "      <td>1</td>\n",
       "      <td>116</td>\n",
       "      <td>NaN</td>\n",
       "      <td>False</td>\n",
       "    </tr>\n",
       "    <tr>\n",
       "      <th>3</th>\n",
       "      <td>a better catalyst</td>\n",
       "      <td>CC</td>\n",
       "      <td>Success Chance</td>\n",
       "      <td>JUSTIFIED</td>\n",
       "      <td>0</td>\n",
       "      <td>0</td>\n",
       "      <td>1</td>\n",
       "      <td>117</td>\n",
       "      <td>NaN</td>\n",
       "      <td>False</td>\n",
       "    </tr>\n",
       "    <tr>\n",
       "      <th>4</th>\n",
       "      <td>a better catalyst</td>\n",
       "      <td>CC</td>\n",
       "      <td>Success Chance</td>\n",
       "      <td>JUSTIFIED</td>\n",
       "      <td>1</td>\n",
       "      <td>1</td>\n",
       "      <td>1</td>\n",
       "      <td>118</td>\n",
       "      <td>No information has been provided by the propos...</td>\n",
       "      <td>False</td>\n",
       "    </tr>\n",
       "  </tbody>\n",
       "</table>\n",
       "</div>"
      ],
      "text/plain": [
       "                Idea Challenge        Category    Outcome  Sum of Reviews  \\\n",
       "0  a better catalyst        CC  Success Chance   DISPUTED              -1   \n",
       "1  a better catalyst        CC  Success Chance  JUSTIFIED               2   \n",
       "2  a better catalyst        CC  Success Chance  JUSTIFIED               0   \n",
       "3  a better catalyst        CC  Success Chance  JUSTIFIED               0   \n",
       "4  a better catalyst        CC  Success Chance  JUSTIFIED               1   \n",
       "\n",
       "   Number of Reviews  Rating Given  Assessor  \\\n",
       "0                  3             1       103   \n",
       "1                  2             1       104   \n",
       "2                  0             1       116   \n",
       "3                  0             1       117   \n",
       "4                  1             1       118   \n",
       "\n",
       "                                     Assessment Note  Flagged_Bool  \n",
       "0  The proposal doesn't contain any execution pla...         False  \n",
       "1  Due to all changes will might take place in th...         False  \n",
       "2                                                NaN         False  \n",
       "3                                                NaN         False  \n",
       "4  No information has been provided by the propos...         False  "
      ]
     },
     "execution_count": 10,
     "metadata": {},
     "output_type": "execute_result"
    }
   ],
   "source": [
    "df.head()"
   ]
  },
  {
   "cell_type": "markdown",
   "metadata": {},
   "source": [
    "### Define Unjustified and Disputed Category\n",
    "\n",
    "Unjustified: At least 3 "
   ]
  },
  {
   "cell_type": "code",
   "execution_count": 11,
   "metadata": {},
   "outputs": [],
   "source": [
    "df[\"Unjustified\"] = (df[\"Outcome\"] == \"UNJUSTIFIED\") & (df[\"Number of Reviews\"] >= 2)"
   ]
  },
  {
   "cell_type": "code",
   "execution_count": 12,
   "metadata": {},
   "outputs": [],
   "source": [
    "df[\"Disputed\"] = (df[\"Outcome\"] == \"DISPUTED\") & (df[\"Number of Reviews\"] >= 2) & (df[\"Sum of Reviews\"] < 0)"
   ]
  },
  {
   "cell_type": "code",
   "execution_count": 13,
   "metadata": {},
   "outputs": [
    {
     "data": {
      "text/html": [
       "<div>\n",
       "<style scoped>\n",
       "    .dataframe tbody tr th:only-of-type {\n",
       "        vertical-align: middle;\n",
       "    }\n",
       "\n",
       "    .dataframe tbody tr th {\n",
       "        vertical-align: top;\n",
       "    }\n",
       "\n",
       "    .dataframe thead th {\n",
       "        text-align: right;\n",
       "    }\n",
       "</style>\n",
       "<table border=\"1\" class=\"dataframe\">\n",
       "  <thead>\n",
       "    <tr style=\"text-align: right;\">\n",
       "      <th></th>\n",
       "      <th>Idea</th>\n",
       "      <th>Challenge</th>\n",
       "      <th>Category</th>\n",
       "      <th>Outcome</th>\n",
       "      <th>Sum of Reviews</th>\n",
       "      <th>Number of Reviews</th>\n",
       "      <th>Rating Given</th>\n",
       "      <th>Assessor</th>\n",
       "      <th>Assessment Note</th>\n",
       "      <th>Flagged_Bool</th>\n",
       "      <th>Unjustified</th>\n",
       "      <th>Disputed</th>\n",
       "    </tr>\n",
       "  </thead>\n",
       "  <tbody>\n",
       "    <tr>\n",
       "      <th>0</th>\n",
       "      <td>a better catalyst</td>\n",
       "      <td>CC</td>\n",
       "      <td>Success Chance</td>\n",
       "      <td>DISPUTED</td>\n",
       "      <td>-1</td>\n",
       "      <td>3</td>\n",
       "      <td>1</td>\n",
       "      <td>103</td>\n",
       "      <td>The proposal doesn't contain any execution pla...</td>\n",
       "      <td>False</td>\n",
       "      <td>False</td>\n",
       "      <td>True</td>\n",
       "    </tr>\n",
       "    <tr>\n",
       "      <th>1</th>\n",
       "      <td>a better catalyst</td>\n",
       "      <td>CC</td>\n",
       "      <td>Success Chance</td>\n",
       "      <td>JUSTIFIED</td>\n",
       "      <td>2</td>\n",
       "      <td>2</td>\n",
       "      <td>1</td>\n",
       "      <td>104</td>\n",
       "      <td>Due to all changes will might take place in th...</td>\n",
       "      <td>False</td>\n",
       "      <td>False</td>\n",
       "      <td>False</td>\n",
       "    </tr>\n",
       "    <tr>\n",
       "      <th>2</th>\n",
       "      <td>a better catalyst</td>\n",
       "      <td>CC</td>\n",
       "      <td>Success Chance</td>\n",
       "      <td>JUSTIFIED</td>\n",
       "      <td>0</td>\n",
       "      <td>0</td>\n",
       "      <td>1</td>\n",
       "      <td>116</td>\n",
       "      <td>NaN</td>\n",
       "      <td>False</td>\n",
       "      <td>False</td>\n",
       "      <td>False</td>\n",
       "    </tr>\n",
       "    <tr>\n",
       "      <th>3</th>\n",
       "      <td>a better catalyst</td>\n",
       "      <td>CC</td>\n",
       "      <td>Success Chance</td>\n",
       "      <td>JUSTIFIED</td>\n",
       "      <td>0</td>\n",
       "      <td>0</td>\n",
       "      <td>1</td>\n",
       "      <td>117</td>\n",
       "      <td>NaN</td>\n",
       "      <td>False</td>\n",
       "      <td>False</td>\n",
       "      <td>False</td>\n",
       "    </tr>\n",
       "    <tr>\n",
       "      <th>4</th>\n",
       "      <td>a better catalyst</td>\n",
       "      <td>CC</td>\n",
       "      <td>Success Chance</td>\n",
       "      <td>JUSTIFIED</td>\n",
       "      <td>1</td>\n",
       "      <td>1</td>\n",
       "      <td>1</td>\n",
       "      <td>118</td>\n",
       "      <td>No information has been provided by the propos...</td>\n",
       "      <td>False</td>\n",
       "      <td>False</td>\n",
       "      <td>False</td>\n",
       "    </tr>\n",
       "  </tbody>\n",
       "</table>\n",
       "</div>"
      ],
      "text/plain": [
       "                Idea Challenge        Category    Outcome  Sum of Reviews  \\\n",
       "0  a better catalyst        CC  Success Chance   DISPUTED              -1   \n",
       "1  a better catalyst        CC  Success Chance  JUSTIFIED               2   \n",
       "2  a better catalyst        CC  Success Chance  JUSTIFIED               0   \n",
       "3  a better catalyst        CC  Success Chance  JUSTIFIED               0   \n",
       "4  a better catalyst        CC  Success Chance  JUSTIFIED               1   \n",
       "\n",
       "   Number of Reviews  Rating Given  Assessor  \\\n",
       "0                  3             1       103   \n",
       "1                  2             1       104   \n",
       "2                  0             1       116   \n",
       "3                  0             1       117   \n",
       "4                  1             1       118   \n",
       "\n",
       "                                     Assessment Note  Flagged_Bool  \\\n",
       "0  The proposal doesn't contain any execution pla...         False   \n",
       "1  Due to all changes will might take place in th...         False   \n",
       "2                                                NaN         False   \n",
       "3                                                NaN         False   \n",
       "4  No information has been provided by the propos...         False   \n",
       "\n",
       "   Unjustified  Disputed  \n",
       "0        False      True  \n",
       "1        False     False  \n",
       "2        False     False  \n",
       "3        False     False  \n",
       "4        False     False  "
      ]
     },
     "execution_count": 13,
     "metadata": {},
     "output_type": "execute_result"
    }
   ],
   "source": [
    "df.head()"
   ]
  },
  {
   "cell_type": "code",
   "execution_count": 14,
   "metadata": {
    "scrolled": true
   },
   "outputs": [],
   "source": [
    "assessor_stats = df[[\"Assessor\", \"Assessment Note\"]].groupby(\"Assessor\").count().rename(\n",
    "        columns={\"Assessment Note\":\"Filled Notes\"})\n",
    "assessor_stats[\"Total Entries\"] = df[[\"Assessor\", \"Assessment Note\"]].groupby(\"Assessor\").size()\n",
    "assessor_stats[\"Empty\"] = assessor_stats[\"Total Entries\"] - assessor_stats[\"Filled Notes\"]\n",
    "assessor_stats[\"Empty Rate\"] = assessor_stats[\"Empty\"] / assessor_stats[\"Total Entries\"]"
   ]
  },
  {
   "cell_type": "code",
   "execution_count": 15,
   "metadata": {
    "scrolled": true
   },
   "outputs": [],
   "source": [
    "assessor_stats[\"Unjustified\"] = df[[\"Assessor\", \"Unjustified\"]].groupby(\"Assessor\").any()\n",
    "assessor_stats[\"Disputed\"] = df[[\"Assessor\", \"Outcome\"]].groupby(\"Assessor\").any()"
   ]
  },
  {
   "cell_type": "code",
   "execution_count": 16,
   "metadata": {
    "scrolled": false
   },
   "outputs": [
    {
     "data": {
      "image/png": "[encoded data removed]",
      "text/plain": [
       "<Figure size 504x288 with 1 Axes>"
      ]
     },
     "metadata": {
      "needs_background": "light"
     },
     "output_type": "display_data"
    }
   ],
   "source": [
    "assessors_with_empty_notes = assessor_stats[\"Empty Rate\"] != 0\n",
    "\n",
    "f, ax = plt.subplots(1, figsize=(7,4))\n",
    "data = assessor_stats[\"Empty Rate\"][assessors_with_empty_notes]\n",
    "bins = 10\n",
    "ax.hist(data, bins)\n",
    "ax.set_ylim(bottom=0)\n",
    "\n",
    "ax.set_xlabel(\"Rate of Empty Assessments\", fontsize=12)\n",
    "ax.set_ylabel(\"Number of Assessors\", fontsize=12)\n",
    "ax.set_title(\"Distribution of Assessors Committing Empty Assessments\", fontsize=16, pad=20)\n",
    "plt.show(f)\n",
    "f.savefig(\"historgram_empty_rate.png\")"
   ]
  },
  {
   "cell_type": "code",
   "execution_count": 17,
   "metadata": {},
   "outputs": [
    {
     "data": {
      "image/png": "[encoded data removed]",
      "text/plain": [
       "<Figure size 504x288 with 1 Axes>"
      ]
     },
     "metadata": {
      "needs_background": "light"
     },
     "output_type": "display_data"
    }
   ],
   "source": [
    "f, ax = plt.subplots(1, figsize=(7,4))\n",
    "xdata = assessor_stats[\"Total Entries\"]\n",
    "ydata = assessor_stats[\"Empty Rate\"]\n",
    "ax.plot(xdata, ydata, marker='.', color='b', linestyle='')\n",
    "ax.set_ylim(bottom=0)\n",
    "\n",
    "ax.set_xlabel(\"Filled in Assessments\", fontsize=12)\n",
    "ax.set_ylabel(\"Empty Assessment Rate\", fontsize=12)\n",
    "ax.set_title(\"Assessments Given vs. Empty Assessments Rate by Assessor\", fontsize=16, pad=20)\n",
    "plt.show(f)\n",
    "f.savefig(\"scatter_empty_rate.png\")"
   ]
  },
  {
   "cell_type": "markdown",
   "metadata": {},
   "source": [
    "## Categorise the Assessors by their contributions"
   ]
  },
  {
   "cell_type": "code",
   "execution_count": 18,
   "metadata": {},
   "outputs": [],
   "source": [
    "df_empty = df[df[\"Assessment Note\"].isnull()]\n",
    "df_non_empty = df[df[\"Assessment Note\"].notnull()]"
   ]
  },
  {
   "cell_type": "code",
   "execution_count": 19,
   "metadata": {},
   "outputs": [],
   "source": [
    "assessors = df[\"Assessor\"].unique()\n",
    "assessor_empty = df_empty[\"Assessor\"].unique()\n",
    "assessor_non_empty = df_non_empty[\"Assessor\"].unique()"
   ]
  },
  {
   "cell_type": "code",
   "execution_count": 20,
   "metadata": {},
   "outputs": [],
   "source": [
    "assessor_sometimes_empty = np.intersect1d(assessor_empty, assessor_non_empty)"
   ]
  },
  {
   "cell_type": "code",
   "execution_count": 21,
   "metadata": {},
   "outputs": [],
   "source": [
    "assessor_always_empty = [assessor for assessor in assessor_empty if assessor not in assessor_sometimes_empty]"
   ]
  },
  {
   "cell_type": "code",
   "execution_count": 22,
   "metadata": {},
   "outputs": [],
   "source": [
    "unfair_raw = df_non_empty[\"Assessor\"][df_non_empty[\"Unjustified\"]].unique()\n",
    "unfair_mask = np.isin(unfair_raw,assessor_empty, invert = True)\n",
    "\n",
    "assessor_unfair = unfair_raw[unfair_mask]"
   ]
  },
  {
   "cell_type": "code",
   "execution_count": 23,
   "metadata": {},
   "outputs": [],
   "source": [
    "disputed_raw = df_non_empty[\"Assessor\"][df_non_empty[\"Disputed\"]].unique()\n",
    "disputed_mask = np.isin(disputed_raw, assessor_unfair, invert = True) & np.isin(disputed_raw, assessor_empty, invert = True)\n",
    "\n",
    "assessor_disputed = disputed_raw[disputed_mask]"
   ]
  },
  {
   "cell_type": "code",
   "execution_count": 24,
   "metadata": {},
   "outputs": [],
   "source": [
    "assessor_all_unfair = np.union1d(assessor_empty, assessor_unfair)\n",
    "\n",
    "assessor_fair = [assessor for assessor in assessors if assessor not in assessor_all_unfair]\n",
    "assessor_undisputed = [assessor for assessor in assessor_fair if assessor not in assessor_disputed]"
   ]
  },
  {
   "cell_type": "code",
   "execution_count": 25,
   "metadata": {
    "scrolled": true
   },
   "outputs": [
    {
     "name": "stdout",
     "output_type": "stream",
     "text": [
      "Empty: 121\n",
      "Not Empty: 93\n",
      "Always Empty: 70\n",
      "Sometimes Empty: 51\n",
      "Unfair: 1\n",
      "Fair: 41\n",
      "Disputed: 9\n",
      "Undisputed: 32\n"
     ]
    }
   ],
   "source": [
    "print(\"Empty: %d\" % len(assessor_empty))\n",
    "print(\"Not Empty: %d\" % len(assessor_non_empty))\n",
    "print(\"Always Empty: %d\" % len(assessor_always_empty))\n",
    "print(\"Sometimes Empty: %d\" % len(assessor_sometimes_empty))\n",
    "print(\"Unfair: %d\" % len(assessor_unfair))\n",
    "print(\"Fair: %d\" % len(assessor_fair))\n",
    "print(\"Disputed: %d\" % len(assessor_disputed))\n",
    "print(\"Undisputed: %d\" % len(assessor_undisputed))"
   ]
  },
  {
   "cell_type": "code",
   "execution_count": 26,
   "metadata": {},
   "outputs": [
    {
     "data": {
      "image/png": "[encoded data removed]",
      "text/plain": [
       "<Figure size 504x288 with 1 Axes>"
      ]
     },
     "metadata": {},
     "output_type": "display_data"
    }
   ],
   "source": [
    "labels = \"Always Empty\", \"Sometimes Empty\", \"Unfair\", \"Disputed\", \"Undisputed\"\n",
    "sizes = [len(assessor_always_empty)\n",
    "         , len(assessor_sometimes_empty)\n",
    "         , len(assessor_unfair)\n",
    "         , len(assessor_disputed)\n",
    "        , len(assessor_undisputed)]\n",
    "explode = (0, 0, 0, 0.1, 0.1)  # only \"explode\" the 2nd slice (i.e. 'Hogs')\n",
    "\n",
    "fig1, ax1 = plt.subplots(1, figsize=(7,4))\n",
    "ax1.pie(sizes, explode=explode, labels=labels,autopct='%1.1f%%',\n",
    "        shadow=True, startangle=90)\n",
    "ax1.axis('equal')  # Equal aspect ratio ensures that pie is drawn as a circle.\n",
    "\n",
    "plt.show()\n",
    "fig1.savefig(\"assessor_distribution.png\")"
   ]
  },
  {
   "cell_type": "code",
   "execution_count": 31,
   "metadata": {},
   "outputs": [],
   "source": [
    "assessor_less_10p_empty = assessor_stats[\"Empty Rate\"] < 0.1"
   ]
  },
  {
   "cell_type": "code",
   "execution_count": 32,
   "metadata": {},
   "outputs": [],
   "source": [
    "assessor_less_10p_disputed = assessor_stats[\"Empty Rate\"] < 0.1"
   ]
  },
  {
   "cell_type": "code",
   "execution_count": 33,
   "metadata": {
    "scrolled": true
   },
   "outputs": [
    {
     "data": {
      "text/plain": [
       "1836"
      ]
     },
     "execution_count": 33,
     "metadata": {},
     "output_type": "execute_result"
    }
   ],
   "source": [
    "assessor_stats[\"Filled Notes\"][assessors_with_empty_notes & assessor_less_10p_empty].sum()"
   ]
  },
  {
   "cell_type": "markdown",
   "metadata": {},
   "source": [
    "## Impact on Assessor Categorization on Assessments"
   ]
  },
  {
   "cell_type": "code",
   "execution_count": 34,
   "metadata": {},
   "outputs": [],
   "source": [
    "empty = df_empty[\"Idea\"].count()\n",
    "empty_collateral = df_non_empty[\"Idea\"][df_non_empty[\"Assessor\"].isin(assessor_sometimes_empty)].count()\n",
    "unfair_collateral = df_non_empty[\"Idea\"][df_non_empty[\"Assessor\"].isin(assessor_unfair)].count()\n",
    "disputed = df_non_empty[\"Idea\"][df_non_empty[\"Disputed\"]].count()\n",
    "\n",
    "fair = df[\"Rating Given\"].count() - empty - empty_collateral - unfair_collateral - disputed"
   ]
  },
  {
   "cell_type": "code",
   "execution_count": 38,
   "metadata": {},
   "outputs": [
    {
     "data": {
      "image/png": "[encoded data removed]",
      "text/plain": [
       "<Figure size 648x432 with 1 Axes>"
      ]
     },
     "metadata": {
      "needs_background": "light"
     },
     "output_type": "display_data"
    }
   ],
   "source": [
    "f, ax = plt.subplots(1, figsize=(9,6))\n",
    "\n",
    "labels = [\"Empty\", \"Empty Collateral\", \"Fair\", \"Disputed\", \"Unfair Collateral\"]\n",
    "x = np.arange(len(labels))\n",
    "assessments = [empty, empty_collateral, fair, disputed, unfair_collateral]\n",
    "\n",
    "bar1 = ax.bar(x, assessments)\n",
    "\n",
    "ax.set_xticks(x)\n",
    "ax.set_xticklabels(labels)\n",
    "\n",
    "def autolabel(bars):\n",
    "    \"\"\"Attach a text label above each bar in *rects*, displaying its height.\"\"\"\n",
    "    for bar in bars:\n",
    "        height = bar.get_height()\n",
    "        ax.annotate('{}'.format(height),\n",
    "                    xy=(bar.get_x() + bar.get_width() / 2, height),\n",
    "                    xytext=(0, 3),  # 3 points vertical offset\n",
    "                    textcoords=\"offset points\",\n",
    "                    ha='center', va='bottom')\n",
    "\n",
    "autolabel(bar1)\n",
    "\n",
    "ax.set_xlabel(\"Assessment Type\", fontsize=12)\n",
    "ax.set_ylabel(\"Number of Assessments\", fontsize=12)\n",
    "ax.set_title(\"Pareto Chart of Assessments Conducted\", fontsize=16, pad=20)\n",
    "plt.show(f)\n",
    "f.savefig(\"pareto.png\")"
   ]
  },
  {
   "cell_type": "markdown",
   "metadata": {},
   "source": [
    "## Undisputed Assessments\n",
    "All assessments, that are not collateral, have a positive sum of rating or less than 3 ratings done"
   ]
  },
  {
   "cell_type": "code",
   "execution_count": 39,
   "metadata": {},
   "outputs": [],
   "source": [
    "#undisputed_mask = df_non_empty[\"Disputed\"] or df_non_empty[\"Unjustified\"]\n",
    "#df_undisputed = df_non_empty[undisputed_mask]"
   ]
  },
  {
   "cell_type": "code",
   "execution_count": 40,
   "metadata": {},
   "outputs": [],
   "source": [
    "#df_undisputed.head()"
   ]
  },
  {
   "cell_type": "code",
   "execution_count": 41,
   "metadata": {},
   "outputs": [
    {
     "data": {
      "text/html": [
       "<div>\n",
       "<style scoped>\n",
       "    .dataframe tbody tr th:only-of-type {\n",
       "        vertical-align: middle;\n",
       "    }\n",
       "\n",
       "    .dataframe tbody tr th {\n",
       "        vertical-align: top;\n",
       "    }\n",
       "\n",
       "    .dataframe thead th {\n",
       "        text-align: right;\n",
       "    }\n",
       "</style>\n",
       "<table border=\"1\" class=\"dataframe\">\n",
       "  <thead>\n",
       "    <tr style=\"text-align: right;\">\n",
       "      <th></th>\n",
       "      <th>All</th>\n",
       "      <th>Empty Notes</th>\n",
       "      <th>Filled Notes</th>\n",
       "      <th>Fair</th>\n",
       "    </tr>\n",
       "    <tr>\n",
       "      <th>Idea</th>\n",
       "      <th></th>\n",
       "      <th></th>\n",
       "      <th></th>\n",
       "      <th></th>\n",
       "    </tr>\n",
       "  </thead>\n",
       "  <tbody>\n",
       "    <tr>\n",
       "      <th>A for ADA Cryptoalphabet 4 children</th>\n",
       "      <td>2.263158</td>\n",
       "      <td>2.333333</td>\n",
       "      <td>2.185185</td>\n",
       "      <td>2.333333</td>\n",
       "    </tr>\n",
       "    <tr>\n",
       "      <th>ABCD</th>\n",
       "      <td>4.000000</td>\n",
       "      <td>3.955556</td>\n",
       "      <td>4.074074</td>\n",
       "      <td>4.444444</td>\n",
       "    </tr>\n",
       "    <tr>\n",
       "      <th>ADA Epoch Clock</th>\n",
       "      <td>1.352941</td>\n",
       "      <td>1.428571</td>\n",
       "      <td>1.260870</td>\n",
       "      <td>1.333333</td>\n",
       "    </tr>\n",
       "    <tr>\n",
       "      <th>ADA MakerSpace - DEV lessons</th>\n",
       "      <td>4.148148</td>\n",
       "      <td>4.279070</td>\n",
       "      <td>4.000000</td>\n",
       "      <td>4.750000</td>\n",
       "    </tr>\n",
       "    <tr>\n",
       "      <th>ADA in 4000 Crypto ATMs Globally!</th>\n",
       "      <td>2.904762</td>\n",
       "      <td>3.055556</td>\n",
       "      <td>2.703704</td>\n",
       "      <td>3.555556</td>\n",
       "    </tr>\n",
       "  </tbody>\n",
       "</table>\n",
       "</div>"
      ],
      "text/plain": [
       "                                          All  Empty Notes  Filled Notes  \\\n",
       "Idea                                                                       \n",
       "A for ADA Cryptoalphabet 4 children  2.263158     2.333333      2.185185   \n",
       "ABCD                                 4.000000     3.955556      4.074074   \n",
       "ADA Epoch Clock                      1.352941     1.428571      1.260870   \n",
       "ADA MakerSpace - DEV lessons         4.148148     4.279070      4.000000   \n",
       "ADA in 4000 Crypto ATMs Globally!    2.904762     3.055556      2.703704   \n",
       "\n",
       "                                         Fair  \n",
       "Idea                                           \n",
       "A for ADA Cryptoalphabet 4 children  2.333333  \n",
       "ABCD                                 4.444444  \n",
       "ADA Epoch Clock                      1.333333  \n",
       "ADA MakerSpace - DEV lessons         4.750000  \n",
       "ADA in 4000 Crypto ATMs Globally!    3.555556  "
      ]
     },
     "execution_count": 41,
     "metadata": {},
     "output_type": "execute_result"
    }
   ],
   "source": [
    "avg_ratings = df[[\"Idea\",\"Rating Given\"]].groupby(\"Idea\").mean().rename(columns={\"Rating Given\":\"All\"})\n",
    "avg_ratings[\"Empty Notes\"] = df_empty[[\"Idea\", \"Rating Given\"]].groupby(\"Idea\").mean()\n",
    "avg_ratings[\"Filled Notes\"] = df_non_empty[[\"Idea\", \"Rating Given\"]].groupby(\"Idea\").mean()\n",
    "\n",
    "fair_mask = df_non_empty[\"Assessor\"].isin(assessor_fair)\n",
    "avg_ratings[\"Fair\"] = df_non_empty[fair_mask][[\"Idea\", \"Rating Given\"]].groupby(\"Idea\").mean()\n",
    "avg_ratings.head()"
   ]
  },
  {
   "cell_type": "code",
   "execution_count": 42,
   "metadata": {},
   "outputs": [
    {
     "data": {
      "text/html": [
       "<div>\n",
       "<style scoped>\n",
       "    .dataframe tbody tr th:only-of-type {\n",
       "        vertical-align: middle;\n",
       "    }\n",
       "\n",
       "    .dataframe tbody tr th {\n",
       "        vertical-align: top;\n",
       "    }\n",
       "\n",
       "    .dataframe thead th {\n",
       "        text-align: right;\n",
       "    }\n",
       "</style>\n",
       "<table border=\"1\" class=\"dataframe\">\n",
       "  <thead>\n",
       "    <tr style=\"text-align: right;\">\n",
       "      <th></th>\n",
       "      <th>All</th>\n",
       "      <th>Empty Notes</th>\n",
       "      <th>Filled Notes</th>\n",
       "      <th>Fair</th>\n",
       "      <th>Count All</th>\n",
       "      <th>Count Empty Notes</th>\n",
       "      <th>Count Filled Notes</th>\n",
       "      <th>Count Fair</th>\n",
       "      <th>Shift Ratio</th>\n",
       "    </tr>\n",
       "    <tr>\n",
       "      <th>Idea</th>\n",
       "      <th></th>\n",
       "      <th></th>\n",
       "      <th></th>\n",
       "      <th></th>\n",
       "      <th></th>\n",
       "      <th></th>\n",
       "      <th></th>\n",
       "      <th></th>\n",
       "      <th></th>\n",
       "    </tr>\n",
       "  </thead>\n",
       "  <tbody>\n",
       "    <tr>\n",
       "      <th>A for ADA Cryptoalphabet 4 children</th>\n",
       "      <td>2.263158</td>\n",
       "      <td>2.333333</td>\n",
       "      <td>2.185185</td>\n",
       "      <td>2.333333</td>\n",
       "      <td>57</td>\n",
       "      <td>30</td>\n",
       "      <td>27</td>\n",
       "      <td>9.0</td>\n",
       "      <td>1.031008</td>\n",
       "    </tr>\n",
       "    <tr>\n",
       "      <th>ABCD</th>\n",
       "      <td>4.000000</td>\n",
       "      <td>3.955556</td>\n",
       "      <td>4.074074</td>\n",
       "      <td>4.444444</td>\n",
       "      <td>72</td>\n",
       "      <td>45</td>\n",
       "      <td>27</td>\n",
       "      <td>9.0</td>\n",
       "      <td>1.111111</td>\n",
       "    </tr>\n",
       "    <tr>\n",
       "      <th>ADA Epoch Clock</th>\n",
       "      <td>1.352941</td>\n",
       "      <td>1.428571</td>\n",
       "      <td>1.260870</td>\n",
       "      <td>1.333333</td>\n",
       "      <td>51</td>\n",
       "      <td>28</td>\n",
       "      <td>23</td>\n",
       "      <td>12.0</td>\n",
       "      <td>0.985507</td>\n",
       "    </tr>\n",
       "    <tr>\n",
       "      <th>ADA MakerSpace - DEV lessons</th>\n",
       "      <td>4.148148</td>\n",
       "      <td>4.279070</td>\n",
       "      <td>4.000000</td>\n",
       "      <td>4.750000</td>\n",
       "      <td>81</td>\n",
       "      <td>43</td>\n",
       "      <td>38</td>\n",
       "      <td>12.0</td>\n",
       "      <td>1.145089</td>\n",
       "    </tr>\n",
       "    <tr>\n",
       "      <th>ADA in 4000 Crypto ATMs Globally!</th>\n",
       "      <td>2.904762</td>\n",
       "      <td>3.055556</td>\n",
       "      <td>2.703704</td>\n",
       "      <td>3.555556</td>\n",
       "      <td>63</td>\n",
       "      <td>36</td>\n",
       "      <td>27</td>\n",
       "      <td>9.0</td>\n",
       "      <td>1.224044</td>\n",
       "    </tr>\n",
       "  </tbody>\n",
       "</table>\n",
       "</div>"
      ],
      "text/plain": [
       "                                          All  Empty Notes  Filled Notes  \\\n",
       "Idea                                                                       \n",
       "A for ADA Cryptoalphabet 4 children  2.263158     2.333333      2.185185   \n",
       "ABCD                                 4.000000     3.955556      4.074074   \n",
       "ADA Epoch Clock                      1.352941     1.428571      1.260870   \n",
       "ADA MakerSpace - DEV lessons         4.148148     4.279070      4.000000   \n",
       "ADA in 4000 Crypto ATMs Globally!    2.904762     3.055556      2.703704   \n",
       "\n",
       "                                         Fair  Count All  Count Empty Notes  \\\n",
       "Idea                                                                          \n",
       "A for ADA Cryptoalphabet 4 children  2.333333         57                 30   \n",
       "ABCD                                 4.444444         72                 45   \n",
       "ADA Epoch Clock                      1.333333         51                 28   \n",
       "ADA MakerSpace - DEV lessons         4.750000         81                 43   \n",
       "ADA in 4000 Crypto ATMs Globally!    3.555556         63                 36   \n",
       "\n",
       "                                     Count Filled Notes  Count Fair  \\\n",
       "Idea                                                                  \n",
       "A for ADA Cryptoalphabet 4 children                  27         9.0   \n",
       "ABCD                                                 27         9.0   \n",
       "ADA Epoch Clock                                      23        12.0   \n",
       "ADA MakerSpace - DEV lessons                         38        12.0   \n",
       "ADA in 4000 Crypto ATMs Globally!                    27         9.0   \n",
       "\n",
       "                                     Shift Ratio  \n",
       "Idea                                              \n",
       "A for ADA Cryptoalphabet 4 children     1.031008  \n",
       "ABCD                                    1.111111  \n",
       "ADA Epoch Clock                         0.985507  \n",
       "ADA MakerSpace - DEV lessons            1.145089  \n",
       "ADA in 4000 Crypto ATMs Globally!       1.224044  "
      ]
     },
     "execution_count": 42,
     "metadata": {},
     "output_type": "execute_result"
    }
   ],
   "source": [
    "avg_ratings[\"Count All\"] = df[[\"Idea\",\"Rating Given\"]].groupby(\"Idea\").count()\n",
    "avg_ratings[\"Count Empty Notes\"] = df_empty[[\"Idea\", \"Rating Given\"]].groupby(\"Idea\").count()\n",
    "avg_ratings[\"Count Filled Notes\"] = df_non_empty[[\"Idea\", \"Rating Given\"]].groupby(\"Idea\").count()\n",
    "\n",
    "fair_mask = df_non_empty[\"Assessor\"].isin(assessor_fair)\n",
    "avg_ratings[\"Count Fair\"] = df_non_empty[fair_mask][[\"Idea\", \"Rating Given\"]].groupby(\"Idea\").count()\n",
    "avg_ratings[\"Shift Ratio\"] = avg_ratings[\"Fair\"] / avg_ratings[\"All\"]\n",
    "avg_ratings.head()"
   ]
  },
  {
   "cell_type": "code",
   "execution_count": 43,
   "metadata": {
    "scrolled": true
   },
   "outputs": [
    {
     "data": {
      "image/png": "[encoded data removed]",
      "text/plain": [
       "<Figure size 720x720 with 1 Axes>"
      ]
     },
     "metadata": {
      "needs_background": "light"
     },
     "output_type": "display_data"
    }
   ],
   "source": [
    "f, ax = plt.subplots(1, figsize=(10,10))\n",
    "xdata = avg_ratings[\"All\"]\n",
    "ydata = avg_ratings[\"Shift Ratio\"]\n",
    "ax.plot(xdata, ydata, marker='.', color='b', linestyle='')\n",
    "ax.set_ylim(bottom=0)\n",
    "ax.set_xlim([1,5])\n",
    "\n",
    "ax.set_xlabel(\"Rating before Filtering\", fontsize=12)\n",
    "ax.set_ylabel(\"Avg Rating of all Assessments / Avg Rating of Fair Assessments\", fontsize=12)\n",
    "ax.set_title(\"Shift in Valuation of Assessments Based on Filtering\", fontsize=16, pad=20)\n",
    "plt.show(f)\n",
    "f.savefig(\"rating_shift.png\")"
   ]
  },
  {
   "cell_type": "code",
   "execution_count": 55,
   "metadata": {
    "scrolled": true
   },
   "outputs": [
    {
     "ename": "NameError",
     "evalue": "name 'matplotlib' is not defined",
     "output_type": "error",
     "traceback": [
      "\u001b[0;31m---------------------------------------------------------------------------\u001b[0m",
      "\u001b[0;31mNameError\u001b[0m                                 Traceback (most recent call last)",
      "\u001b[0;32m<ipython-input-55-b68b0e300f49>\u001b[0m in \u001b[0;36m<module>\u001b[0;34m\u001b[0m\n\u001b[1;32m      4\u001b[0m \u001b[0max\u001b[0m\u001b[0;34m.\u001b[0m\u001b[0mhist\u001b[0m\u001b[0;34m(\u001b[0m\u001b[0mdata\u001b[0m\u001b[0;34m,\u001b[0m \u001b[0mbins\u001b[0m\u001b[0;34m)\u001b[0m\u001b[0;34m\u001b[0m\u001b[0;34m\u001b[0m\u001b[0m\n\u001b[1;32m      5\u001b[0m \u001b[0max\u001b[0m\u001b[0;34m.\u001b[0m\u001b[0mset_ylim\u001b[0m\u001b[0;34m(\u001b[0m\u001b[0mbottom\u001b[0m\u001b[0;34m=\u001b[0m\u001b[0;36m0\u001b[0m\u001b[0;34m)\u001b[0m\u001b[0;34m\u001b[0m\u001b[0;34m\u001b[0m\u001b[0m\n\u001b[0;32m----> 6\u001b[0;31m \u001b[0max\u001b[0m\u001b[0;34m.\u001b[0m\u001b[0myaxis\u001b[0m\u001b[0;34m.\u001b[0m\u001b[0mset_major_locator\u001b[0m\u001b[0;34m(\u001b[0m\u001b[0mmatplotlib\u001b[0m\u001b[0;34m.\u001b[0m\u001b[0mticker\u001b[0m\u001b[0;34m.\u001b[0m\u001b[0mMaxNLocator\u001b[0m\u001b[0;34m(\u001b[0m\u001b[0minteger\u001b[0m\u001b[0;34m=\u001b[0m\u001b[0;32mTrue\u001b[0m\u001b[0;34m)\u001b[0m\u001b[0;34m)\u001b[0m\u001b[0;34m\u001b[0m\u001b[0;34m\u001b[0m\u001b[0m\n\u001b[0m\u001b[1;32m      7\u001b[0m \u001b[0;34m\u001b[0m\u001b[0m\n\u001b[1;32m      8\u001b[0m \u001b[0max\u001b[0m\u001b[0;34m.\u001b[0m\u001b[0mset_xlabel\u001b[0m\u001b[0;34m(\u001b[0m\u001b[0;34m\"Average Proposal Rating\"\u001b[0m\u001b[0;34m,\u001b[0m \u001b[0mfontsize\u001b[0m\u001b[0;34m=\u001b[0m\u001b[0;36m12\u001b[0m\u001b[0;34m)\u001b[0m\u001b[0;34m\u001b[0m\u001b[0;34m\u001b[0m\u001b[0m\n",
      "\u001b[0;31mNameError\u001b[0m: name 'matplotlib' is not defined"
     ]
    },
    {
     "data": {
      "image/png": "[encoded data removed]",
      "text/plain": [
       "<Figure size 504x288 with 1 Axes>"
      ]
     },
     "metadata": {
      "needs_background": "light"
     },
     "output_type": "display_data"
    }
   ],
   "source": [
    "f, ax = plt.subplots(1, figsize=(7,4))\n",
    "data = avg_ratings[\"Fair\"]\n",
    "bins = 10\n",
    "ax.hist(data, bins)\n",
    "ax.set_ylim(bottom=0)\n",
    "\n",
    "ax.yaxis.set_major_locator(MaxNLocator(integer=True))\n",
    "\n",
    "ax.set_xlabel(\"Average Proposal Rating\", fontsize=12)\n",
    "ax.set_ylabel(\"Number of Proposals\", fontsize=12)\n",
    "ax.set_title(\"Distribution of Proposals by Rating\", fontsize=16, pad=20)\n",
    "plt.show(f)\n",
    "f.savefig(\"Proposal_distribution.png\")"
   ]
  },
  {
   "cell_type": "code",
   "execution_count": 37,
   "metadata": {},
   "outputs": [
    {
     "data": {
      "image/png": "[encoded data removed]",
      "text/plain": [
       "<Figure size 720x720 with 1 Axes>"
      ]
     },
     "metadata": {
      "needs_background": "light"
     },
     "output_type": "display_data"
    }
   ],
   "source": [
    "f, ax = plt.subplots(1, figsize=(10,10))\n",
    "xdata = avg_ratings[\"All\"]\n",
    "ydata = avg_ratings[\"Fair\"]\n",
    "ax.plot(xdata, ydata, marker='.', color='b', linestyle='')\n",
    "ax.set_ylim(bottom=0)\n",
    "\n",
    "ax.set_xlabel(\"Rating without Filtering\", fontsize=12)\n",
    "ax.set_ylabel(\"Rating with only fair assessments\", fontsize=12)\n",
    "ax.set_title(\"Shift in Valuation of Assessments Based on Filtering\", fontsize=16, pad=20)\n",
    "plt.show(f)\n",
    "f.savefig(\"shift_rating2.png\")"
   ]
  },
  {
   "cell_type": "code",
   "execution_count": null,
   "metadata": {},
   "outputs": [],
   "source": []
  }
 ],
 "metadata": {
  "kernelspec": {
   "display_name": "Python 3",
   "language": "python",
   "name": "python3"
  },
  "language_info": {
   "codemirror_mode": {
    "name": "ipython",
    "version": 3
   },
   "file_extension": ".py",
   "mimetype": "text/x-python",
   "name": "python",
   "nbconvert_exporter": "python",
   "pygments_lexer": "ipython3",
   "version": "3.8.5"
  }
 },
 "nbformat": 4,
 "nbformat_minor": 4
}
